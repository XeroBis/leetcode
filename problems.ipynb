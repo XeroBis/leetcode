{
 "cells": [
  {
   "cell_type": "code",
   "execution_count": null,
   "metadata": {},
   "outputs": [],
   "source": [
    "# 1\n",
    "def twoSum(nums, target):\n",
    "    for i in range(len(nums)):\n",
    "        for j in range(len(nums)):\n",
    "            if i != j:\n",
    "                if nums[i]+nums[j] == target:\n",
    "                    return [i, j]\n",
    "    \n",
    "    return []"
   ]
  },
  {
   "cell_type": "code",
   "execution_count": null,
   "metadata": {},
   "outputs": [],
   "source": [
    "# 2\n",
    "class ListNode(object):\n",
    "    def __init__(self, val=0, next=None):\n",
    "        self.val = val\n",
    "        self.next = next\n",
    "def addTwoNumbers(self, l1, l2):\n",
    "    \"\"\"\n",
    "    :type l1: Optional[ListNode]\n",
    "    :type l2: Optional[ListNode]\n",
    "    :rtype: Optional[ListNode]\n",
    "    \"\"\"\n",
    "    val = l1.val + l2.val\n",
    "    reste = val // 10\n",
    "    l3 = ListNode(val%10)\n",
    "    l4 = l3\n",
    "    l1=l1.next\n",
    "    l2=l2.next\n",
    "    while l1 is not None or l2 is not None:\n",
    "        if l2 is None:\n",
    "            val = l1.val\n",
    "            l1 = l1.next\n",
    "        elif l1 is None:\n",
    "            val = l2.val\n",
    "            l2 = l2.next\n",
    "        else:\n",
    "            val = l1.val + l2.val\n",
    "            l1 = l1.next\n",
    "            l2 = l2.next\n",
    "        val += reste\n",
    "        reste = val // 10\n",
    "        next = ListNode(val%10)\n",
    "        l4.next = next\n",
    "        l4 = next\n",
    "    \n",
    "    if reste == 1:\n",
    "        l4.next = ListNode(1)\n",
    "    return l3"
   ]
  },
  {
   "cell_type": "code",
   "execution_count": null,
   "metadata": {},
   "outputs": [],
   "source": [
    "# 3\n",
    "def lengthOfLongestSubstring(s):\n",
    "    longest = 0 if len(s) == 0 else 1\n",
    "    for i in range(len(s)):\n",
    "        for j in range(i,len(s)+1):\n",
    "            sub=s[i:j]\n",
    "            if len(set(sub)) == len(sub):\n",
    "                if len(sub) > longest:\n",
    "                    longest = len(sub)\n",
    "        if longest > 94:\n",
    "            return 95\n",
    "    return longest"
   ]
  },
  {
   "cell_type": "code",
   "execution_count": null,
   "metadata": {},
   "outputs": [],
   "source": [
    "# 4\n",
    "def findMedianSortedArrays(nums1, nums2):\n",
    "    nums = sorted(nums1+nums2)\n",
    "    if len(nums) % 2==0:\n",
    "        nb1 = nums[int((len(nums)/2))]\n",
    "        nb2 = nums[int((len(nums)/2))-1]\n",
    "        return (nb1 + nb2) / 2\n",
    "        \n",
    "    else:\n",
    "        return nums[int(len(nums)/2)]"
   ]
  },
  {
   "cell_type": "code",
   "execution_count": null,
   "metadata": {},
   "outputs": [],
   "source": [
    "# 5 \n",
    "def longestPalindrome(s):\n",
    "    if len(s) <= 1:\n",
    "            return s\n",
    "        \n",
    "    Max_Len=1\n",
    "    Max_Str=s[0]\n",
    "    for i in range(len(s)-1):\n",
    "        for j in range(i+1,len(s)):\n",
    "            print(\"s,\", s[i:j+1], s[i:j+1][::-1])\n",
    "            if j-i+1 > Max_Len and s[i:j+1] == s[i:j+1][::-1]:\n",
    "                Max_Len = j-i+1\n",
    "                Max_Str = s[i:j+1]\n",
    "    return Max_Str\n"
   ]
  },
  {
   "cell_type": "code",
   "execution_count": null,
   "metadata": {},
   "outputs": [],
   "source": [
    "# 796\n",
    "def rotateString(s, goal):\n",
    "    if s == goal:\n",
    "        return True\n",
    "    \n",
    "    for _ in range(len(s)):\n",
    "        s = s[1:]+ s[0]\n",
    "        if s == goal:\n",
    "            return True\n",
    "    \n",
    "    return False\n",
    "rotateString(s = \"abcde\", goal = \"cdeab\")"
   ]
  },
  {
   "cell_type": "code",
   "execution_count": null,
   "metadata": {},
   "outputs": [],
   "source": [
    "# 862\n",
    "import heapq\n",
    "from typing import List\n",
    "def shortestSubarray(nums: List[int], k: int) -> int:\n",
    "        pq = []\n",
    "        sum = 0\n",
    "        min_len = float('inf')\n",
    "\n",
    "        for i, num in enumerate(nums):\n",
    "            sum += num\n",
    "            if sum >= k:\n",
    "                min_len = min(min_len, i + 1)\n",
    "            while pq and sum - pq[0][0] >= k:\n",
    "                min_len = min(min_len, i - heapq.heappop(pq)[1])\n",
    "            heapq.heappush(pq, (sum, i))\n",
    "\n",
    "        return min_len if min_len != float('inf') else -1\n",
    "shortestSubarray(nums=[2,-1,2],k=3)"
   ]
  },
  {
   "cell_type": "code",
   "execution_count": null,
   "metadata": {},
   "outputs": [],
   "source": [
    "# 1652\n",
    "def decrypt(code, k):\n",
    "    n = len(code)\n",
    "    if k == 0:\n",
    "        return [0] * n\n",
    "\n",
    "    ans = []\n",
    "    nums = code + code + code\n",
    "    print(nums)\n",
    "    for i in range(n, n + n):\n",
    "        if k > 0:\n",
    "            ans.append(sum(nums[i + 1 : i + k + 1]))\n",
    "        else:\n",
    "            ans.append(sum(nums[i + k : i]))\n",
    "    return ans\n"
   ]
  },
  {
   "cell_type": "code",
   "execution_count": null,
   "metadata": {},
   "outputs": [],
   "source": [
    "# 1957\n",
    "def makeFancyString(string):\n",
    "    l_s = list(string)\n",
    "    res = \"\"\n",
    "    curr = l_s[0]\n",
    "    nb= -1\n",
    "    for char in l_s:\n",
    "        \n",
    "        if char == curr:\n",
    "            nb+= 1\n",
    "        else:\n",
    "            nb = 0\n",
    "        curr = char\n",
    "        if nb <2:\n",
    "            res = res + char\n",
    "    return res\n",
    "makeFancyString(\"aab\")"
   ]
  },
  {
   "cell_type": "code",
   "execution_count": null,
   "metadata": {},
   "outputs": [],
   "source": [
    "# 2490\n",
    "def isCircularSentence(sentence):\n",
    "    l_word = sentence.split(\" \")\n",
    "    if len(l_word) == 1:\n",
    "        return l_word[0][0] == l_word[0][len(l_word[0])-1]\n",
    "    for i in range(-1,len(l_word)-1):\n",
    "        curr = l_word[i][len(l_word[i])-1]\n",
    "        next = l_word[i+1][0]\n",
    "        if curr != next:\n",
    "            return False\n",
    "    \n",
    "    return True\n",
    "isCircularSentence(sentence = \"ab a\")"
   ]
  },
  {
   "cell_type": "code",
   "execution_count": null,
   "metadata": {},
   "outputs": [],
   "source": [
    "# 2696\n",
    "def minLength(s):\n",
    "    while \"AB\" in s or \"CD\" in s:\n",
    "        s = s.replace(\"AB\", \"\")\n",
    "        s = s.replace(\"CD\", \"\")\n",
    "    return s\n",
    "\n",
    "minLength(\"ABFCACDB\")"
   ]
  }
 ],
 "metadata": {
  "kernelspec": {
   "display_name": ".venv",
   "language": "python",
   "name": "python3"
  },
  "language_info": {
   "name": "python",
   "version": "3.12.0"
  }
 },
 "nbformat": 4,
 "nbformat_minor": 2
}
