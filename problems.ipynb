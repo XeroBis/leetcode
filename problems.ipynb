{
 "cells": [
  {
   "cell_type": "code",
   "execution_count": null,
   "metadata": {},
   "outputs": [],
   "source": [
    "# 796\n",
    "def rotateString(s, goal):\n",
    "    if s == goal:\n",
    "        return True\n",
    "    \n",
    "    for _ in range(len(s)):\n",
    "        s = s[1:]+ s[0]\n",
    "        if s == goal:\n",
    "            return True\n",
    "    \n",
    "    return False\n",
    "rotateString(s = \"abcde\", goal = \"cdeab\")"
   ]
  },
  {
   "cell_type": "code",
   "execution_count": null,
   "metadata": {},
   "outputs": [],
   "source": [
    "# 862\n",
    "import heapq\n",
    "from typing import List\n",
    "def shortestSubarray(nums: List[int], k: int) -> int:\n",
    "        pq = []\n",
    "        sum = 0\n",
    "        min_len = float('inf')\n",
    "\n",
    "        for i, num in enumerate(nums):\n",
    "            sum += num\n",
    "            if sum >= k:\n",
    "                min_len = min(min_len, i + 1)\n",
    "            while pq and sum - pq[0][0] >= k:\n",
    "                min_len = min(min_len, i - heapq.heappop(pq)[1])\n",
    "            heapq.heappush(pq, (sum, i))\n",
    "\n",
    "        return min_len if min_len != float('inf') else -1\n",
    "shortestSubarray(nums=[2,-1,2],k=3)"
   ]
  },
  {
   "cell_type": "code",
   "execution_count": null,
   "metadata": {},
   "outputs": [],
   "source": [
    "# 1652\n",
    "def decrypt(code, k):\n",
    "    n = len(code)\n",
    "    if k == 0:\n",
    "        return [0] * n\n",
    "\n",
    "    ans = []\n",
    "    nums = code + code + code\n",
    "    print(nums)\n",
    "    for i in range(n, n + n):\n",
    "        if k > 0:\n",
    "            ans.append(sum(nums[i + 1 : i + k + 1]))\n",
    "        else:\n",
    "            ans.append(sum(nums[i + k : i]))\n",
    "    return ans\n"
   ]
  },
  {
   "cell_type": "code",
   "execution_count": null,
   "metadata": {},
   "outputs": [],
   "source": [
    "# 1957\n",
    "def makeFancyString(string):\n",
    "    l_s = list(string)\n",
    "    res = \"\"\n",
    "    curr = l_s[0]\n",
    "    nb= -1\n",
    "    for char in l_s:\n",
    "        \n",
    "        if char == curr:\n",
    "            nb+= 1\n",
    "        else:\n",
    "            nb = 0\n",
    "        curr = char\n",
    "        if nb <2:\n",
    "            res = res + char\n",
    "    return res\n",
    "makeFancyString(\"aab\")"
   ]
  },
  {
   "cell_type": "code",
   "execution_count": null,
   "metadata": {},
   "outputs": [],
   "source": [
    "# 2490\n",
    "def isCircularSentence(sentence):\n",
    "    l_word = sentence.split(\" \")\n",
    "    if len(l_word) == 1:\n",
    "        return l_word[0][0] == l_word[0][len(l_word[0])-1]\n",
    "    for i in range(-1,len(l_word)-1):\n",
    "        curr = l_word[i][len(l_word[i])-1]\n",
    "        next = l_word[i+1][0]\n",
    "        if curr != next:\n",
    "            return False\n",
    "    \n",
    "    return True\n",
    "isCircularSentence(sentence = \"ab a\")"
   ]
  },
  {
   "cell_type": "code",
   "execution_count": null,
   "metadata": {},
   "outputs": [],
   "source": [
    "# 2696\n",
    "def minLength(s):\n",
    "    while \"AB\" in s or \"CD\" in s:\n",
    "        s = s.replace(\"AB\", \"\")\n",
    "        s = s.replace(\"CD\", \"\")\n",
    "    return s\n",
    "\n",
    "minLength(\"ABFCACDB\")"
   ]
  }
 ],
 "metadata": {
  "kernelspec": {
   "display_name": ".venv",
   "language": "python",
   "name": "python3"
  },
  "language_info": {
   "name": "python",
   "version": "3.12.0"
  }
 },
 "nbformat": 4,
 "nbformat_minor": 2
}
